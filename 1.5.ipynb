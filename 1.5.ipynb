{
 "cells": [
  {
   "cell_type": "code",
   "execution_count": 13,
   "metadata": {},
   "outputs": [],
   "source": [
    "import pandas as pd\n",
    "import numpy as np\n",
    "import statsmodels.api as sm\n",
    "from statsmodels.tsa.stattools import adfuller\n"
   ]
  },
  {
   "cell_type": "code",
   "execution_count": 14,
   "metadata": {},
   "outputs": [],
   "source": [
    "cpi_df = pd.read_csv('CPIAUCSL.csv')\n",
    "unrate_df = pd.read_csv('UNRATE.csv')\n",
    "\n",
    "cpi_df['DATE'] = pd.to_datetime(cpi_df['DATE'])\n",
    "unrate_df['DATE'] = pd.to_datetime(unrate_df['DATE'])\n",
    "\n",
    "merged_df = pd.merge(cpi_df, unrate_df, on='DATE', how='inner')\n",
    "\n",
    "merged_df['CPI_RATE'] = merged_df['CPIAUCSL'].pct_change() * 100\n",
    "merged_df = merged_df.dropna()"
   ]
  },
  {
   "cell_type": "code",
   "execution_count": 15,
   "metadata": {},
   "outputs": [],
   "source": [
    "def identify_outliers_zscore(df, column, threshold=3):\n",
    "    mean = df[column].mean()\n",
    "    std = df[column].std()\n",
    "    return df[np.abs((df[column] - mean) / std) > threshold].index\n",
    "\n",
    "cpi_outliers = identify_outliers_zscore(merged_df, 'CPI_RATE')\n",
    "unrate_outliers = identify_outliers_zscore(merged_df, 'UNRATE')\n",
    "\n",
    "merged_df.loc[cpi_outliers, 'CPI_RATE'] = np.nan\n",
    "merged_df.loc[unrate_outliers, 'UNRATE'] = np.nan\n",
    "\n",
    "merged_df['CPI_RATE'] = merged_df['CPI_RATE'].interpolate()\n",
    "merged_df['UNRATE'] = merged_df['UNRATE'].interpolate()"
   ]
  },
  {
   "cell_type": "code",
   "execution_count": 16,
   "metadata": {},
   "outputs": [
    {
     "name": "stdout",
     "output_type": "stream",
     "text": [
      "Cointegration regression summary:\n",
      "                            OLS Regression Results                            \n",
      "==============================================================================\n",
      "Dep. Variable:               CPI_RATE   R-squared:                       0.005\n",
      "Model:                            OLS   Adj. R-squared:                  0.004\n",
      "Method:                 Least Squares   F-statistic:                     4.825\n",
      "Date:                Sat, 02 Nov 2024   Prob (F-statistic):             0.0283\n",
      "Time:                        02:15:48   Log-Likelihood:                -172.07\n",
      "No. Observations:                 918   AIC:                             348.1\n",
      "Df Residuals:                     916   BIC:                             357.8\n",
      "Df Model:                           1                                         \n",
      "Covariance Type:            nonrobust                                         \n",
      "==============================================================================\n",
      "                 coef    std err          t      P>|t|      [0.025      0.975]\n",
      "------------------------------------------------------------------------------\n",
      "const          0.2073      0.034      6.030      0.000       0.140       0.275\n",
      "UNRATE         0.0128      0.006      2.197      0.028       0.001       0.024\n",
      "==============================================================================\n",
      "Omnibus:                       57.029   Durbin-Watson:                   0.755\n",
      "Prob(Omnibus):                  0.000   Jarque-Bera (JB):               77.642\n",
      "Skew:                           0.532   Prob(JB):                     1.38e-17\n",
      "Kurtosis:                       3.948   Cond. No.                         21.6\n",
      "==============================================================================\n",
      "\n",
      "Notes:\n",
      "[1] Standard Errors assume that the covariance matrix of the errors is correctly specified.\n"
     ]
    }
   ],
   "source": [
    "\n",
    "Y = merged_df['CPI_RATE']\n",
    "X = merged_df['UNRATE']\n",
    "X_with_const = sm.add_constant(X)\n",
    "\n",
    "\n",
    "cointegration_model = sm.OLS(Y, X_with_const).fit()\n",
    "print(\"Cointegration regression summary:\")\n",
    "print(cointegration_model.summary())"
   ]
  },
  {
   "cell_type": "code",
   "execution_count": 17,
   "metadata": {},
   "outputs": [
    {
     "name": "stdout",
     "output_type": "stream",
     "text": [
      "\n",
      "ADF Test on Residuals:\n",
      "ADF Statistic: -3.723605127592001\n",
      "p-value: 0.003793115547989496\n",
      "Critical Values: {'1%': -3.43761244359048, '5%': -2.8647460220589736, '10%': -2.568477099382028}\n",
      "The residuals are stationary (reject the null of unit root). Y and X are likely cointegrated.\n"
     ]
    }
   ],
   "source": [
    "# extract residuals and test for stationarity (ADF test on residuals)\n",
    "residuals = cointegration_model.resid\n",
    "adf_test = adfuller(residuals)\n",
    "\n",
    "\n",
    "print(\"\\nADF Test on Residuals:\")\n",
    "print(f\"ADF Statistic: {adf_test[0]}\")\n",
    "print(f\"p-value: {adf_test[1]}\")\n",
    "print(\"Critical Values:\", adf_test[4])\n",
    "\n",
    "\n",
    "if adf_test[1] < 0.05:\n",
    "    print(\"The residuals are stationary (reject the null of unit root). Y and X are likely cointegrated.\")\n",
    "else:\n",
    "    print(\"The residuals are not stationary (do not reject the null of unit root). Y and X are not cointegrated.\")"
   ]
  }
 ],
 "metadata": {
  "kernelspec": {
   "display_name": "base",
   "language": "python",
   "name": "python3"
  },
  "language_info": {
   "codemirror_mode": {
    "name": "ipython",
    "version": 3
   },
   "file_extension": ".py",
   "mimetype": "text/x-python",
   "name": "python",
   "nbconvert_exporter": "python",
   "pygments_lexer": "ipython3",
   "version": "3.11.5"
  }
 },
 "nbformat": 4,
 "nbformat_minor": 2
}
