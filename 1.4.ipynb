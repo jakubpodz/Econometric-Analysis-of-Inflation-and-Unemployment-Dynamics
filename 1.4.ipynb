{
 "cells": [
  {
   "cell_type": "code",
   "execution_count": 74,
   "metadata": {},
   "outputs": [],
   "source": [
    "import pandas as pd\n",
    "import numpy as np\n",
    "import statsmodels.api as sm\n"
   ]
  },
  {
   "cell_type": "code",
   "execution_count": 75,
   "metadata": {},
   "outputs": [],
   "source": [
    "cpi_df = pd.read_csv('CPIAUCSL.csv')\n",
    "unrate_df = pd.read_csv('UNRATE.csv')\n",
    "\n",
    "cpi_df['DATE'] = pd.to_datetime(cpi_df['DATE'])\n",
    "unrate_df['DATE'] = pd.to_datetime(unrate_df['DATE'])\n",
    "\n",
    "merged_df = pd.merge(cpi_df, unrate_df, on='DATE', how='inner')\n",
    "\n",
    "merged_df['CPI_RATE'] = merged_df['CPIAUCSL'].pct_change() * 100\n",
    "merged_df = merged_df.dropna()\n"
   ]
  },
  {
   "cell_type": "code",
   "execution_count": 76,
   "metadata": {},
   "outputs": [],
   "source": [
    "def identify_outliers_zscore(df, column, threshold=3):\n",
    "    mean = df[column].mean()\n",
    "    std = df[column].std()\n",
    "    return df[np.abs((df[column] - mean) / std) > threshold].index\n",
    "\n",
    "cpi_outliers = identify_outliers_zscore(merged_df, 'CPI_RATE')\n",
    "unrate_outliers = identify_outliers_zscore(merged_df, 'UNRATE')\n",
    "\n",
    "merged_df.loc[cpi_outliers, 'CPI_RATE'] = np.nan\n",
    "merged_df.loc[unrate_outliers, 'UNRATE'] = np.nan\n",
    "\n",
    "merged_df['CPI_RATE'] = merged_df['CPI_RATE'].interpolate()\n",
    "merged_df['UNRATE'] = merged_df['UNRATE'].interpolate()"
   ]
  },
  {
   "cell_type": "code",
   "execution_count": 77,
   "metadata": {},
   "outputs": [],
   "source": [
    "p=4\n",
    "\n",
    "data = pd.DataFrame({\n",
    "    'Y': merged_df['CPI_RATE'],\n",
    "    'X': merged_df['UNRATE']\n",
    "})\n",
    "\n",
    "for i in range(1, p+1):\n",
    "    data[f'Y_lag{i}'] = data['Y'].shift(i)\n",
    "    data[f'X_lag{i}'] = data['X'].shift(i)\n",
    "\n",
    "data = data.dropna()"
   ]
  },
  {
   "cell_type": "code",
   "execution_count": 78,
   "metadata": {},
   "outputs": [],
   "source": [
    "Y = data['Y']\n",
    "X = data[['X'] + [f'Y_lag{i}' for i in range(1, p+1)] + [f'X_lag{i}' for i in range(1, p+1)]]\n",
    "\n",
    "#fit the ADL(p, p) model\n",
    "adl_model = sm.OLS(Y, sm.add_constant(X)).fit()"
   ]
  },
  {
   "cell_type": "code",
   "execution_count": 79,
   "metadata": {},
   "outputs": [
    {
     "name": "stdout",
     "output_type": "stream",
     "text": [
      "Iterative forecasts for each period up to 10:\n",
      "Forecast for period 1: 0.6438940684869734\n",
      "Forecast for period 2: 0.9742853510259678\n",
      "Forecast for period 3: 1.2376939640147266\n",
      "Forecast for period 4: 1.4815386494497025\n",
      "Forecast for period 5: 1.6175285622769646\n",
      "Forecast for period 6: 1.7058627854608908\n",
      "Forecast for period 7: 1.7665282571790932\n",
      "Forecast for period 8: 1.7977701885929511\n",
      "Forecast for period 9: 1.8164323411463004\n",
      "Forecast for period 10: 1.8275743586728377\n"
     ]
    }
   ],
   "source": [
    "iterative_forecasts = []\n",
    "current_data = data.iloc[-1].copy()  # last known values as starting point\n",
    "\n",
    "print(\"Iterative forecasts for each period up to 10:\")\n",
    "\n",
    "for i in range(10):\n",
    "    # predict next value\n",
    "    forecast = adl_model.predict(sm.add_constant(current_data.values.reshape(1, -1)))[0]\n",
    "    iterative_forecasts.append(forecast)\n",
    "    \n",
    "    \n",
    "    print(f\"Forecast for period {i+1}: {forecast}\")\n",
    "\n",
    "    #shift lags for next iteration\n",
    "    for lag in range(p, 1, -1):\n",
    "        current_data[f'Y_lag{lag}'] = current_data[f'Y_lag{lag - 1}']\n",
    "        current_data[f'X_lag{lag}'] = current_data[f'X_lag{lag - 1}']\n",
    "    current_data['Y_lag1'] = forecast\n",
    "    current_data['X_lag1'] = current_data['X']"
   ]
  },
  {
   "cell_type": "code",
   "execution_count": 82,
   "metadata": {},
   "outputs": [
    {
     "name": "stdout",
     "output_type": "stream",
     "text": [
      "Direct forecast for period 1: 0.7597756225694081\n",
      "Direct forecast for period 2: 0.8123719550266331\n",
      "Direct forecast for period 3: 0.7575013636679808\n",
      "Direct forecast for period 4: 0.827096576709365\n",
      "Direct forecast for period 5: 0.827096576709365\n",
      "Direct forecast for period 6: 0.827096576709365\n",
      "Direct forecast for period 7: 0.827096576709365\n",
      "Direct forecast for period 8: 0.827096576709365\n",
      "Direct forecast for period 9: 0.827096576709365\n",
      "Direct forecast for period 10: 0.827096576709365\n"
     ]
    }
   ],
   "source": [
    "direct_forecasts = []\n",
    "\n",
    "forecast_horizon = 10 \n",
    "\n",
    "for i in range(1, forecast_horizon + 1):\n",
    "    #shift data to predict for each horizon directly\n",
    "    shifted_data = data.iloc[-1:].copy()  # use last row as base\n",
    "    for lag in range(1, p + 1):\n",
    "        if lag <= i:\n",
    "            # shift the 'Y' and 'X' lags forward by `i` steps\n",
    "            shifted_data[f'Y_lag{lag}'] = shifted_data['Y'].values[0]  \n",
    "            shifted_data[f'X_lag{lag}'] = shifted_data['X'].values[0]\n",
    "    \n",
    "   \n",
    "    forecast = adl_model.predict(sm.add_constant(shifted_data.values.reshape(1, -1)))[0]\n",
    "    direct_forecasts.append(forecast)\n",
    "\n",
    "\n",
    "for i, forecast in enumerate(direct_forecasts, start=1):\n",
    "    print(f\"Direct forecast for period {i}: {forecast}\")\n"
   ]
  }
 ],
 "metadata": {
  "kernelspec": {
   "display_name": "base",
   "language": "python",
   "name": "python3"
  },
  "language_info": {
   "codemirror_mode": {
    "name": "ipython",
    "version": 3
   },
   "file_extension": ".py",
   "mimetype": "text/x-python",
   "name": "python",
   "nbconvert_exporter": "python",
   "pygments_lexer": "ipython3",
   "version": "3.11.5"
  }
 },
 "nbformat": 4,
 "nbformat_minor": 2
}
