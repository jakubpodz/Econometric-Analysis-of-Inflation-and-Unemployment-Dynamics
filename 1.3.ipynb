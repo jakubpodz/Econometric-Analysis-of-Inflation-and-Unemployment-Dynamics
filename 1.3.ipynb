{
 "cells": [
  {
   "cell_type": "code",
   "execution_count": 14,
   "metadata": {},
   "outputs": [],
   "source": [
    "import statsmodels.api as sm\n",
    "import numpy as np\n",
    "import pandas as pd"
   ]
  },
  {
   "cell_type": "code",
   "execution_count": 15,
   "metadata": {},
   "outputs": [],
   "source": [
    "cpi_df = pd.read_csv('CPIAUCSL.csv')\n",
    "unrate_df = pd.read_csv('UNRATE.csv')\n",
    "\n",
    "cpi_df['DATE'] = pd.to_datetime(cpi_df['DATE'])\n",
    "unrate_df['DATE'] = pd.to_datetime(unrate_df['DATE'])\n",
    "\n",
    "merged_df = pd.merge(cpi_df, unrate_df, on='DATE', how='inner')\n",
    "\n",
    "merged_df['CPI_RATE'] = merged_df['CPIAUCSL'].pct_change() * 100\n",
    "merged_df = merged_df.dropna()"
   ]
  },
  {
   "cell_type": "code",
   "execution_count": 16,
   "metadata": {},
   "outputs": [],
   "source": [
    "def identify_outliers_zscore(df, column, threshold=3):\n",
    "    mean = df[column].mean()\n",
    "    std = df[column].std()\n",
    "    return df[np.abs((df[column] - mean) / std) > threshold].index\n",
    "\n",
    "cpi_outliers = identify_outliers_zscore(merged_df, 'CPI_RATE')\n",
    "unrate_outliers = identify_outliers_zscore(merged_df, 'UNRATE')\n",
    "\n",
    "merged_df.loc[cpi_outliers, 'CPI_RATE'] = np.nan\n",
    "merged_df.loc[unrate_outliers, 'UNRATE'] = np.nan\n",
    "\n",
    "merged_df['CPI_RATE'] = merged_df['CPI_RATE'].interpolate()\n",
    "merged_df['UNRATE'] = merged_df['UNRATE'].interpolate()"
   ]
  },
  {
   "cell_type": "code",
   "execution_count": 17,
   "metadata": {},
   "outputs": [],
   "source": [
    "data = pd.DataFrame({\n",
    "    'Y': merged_df['CPI_RATE'],\n",
    "    'X': merged_df['UNRATE'],\n",
    "    'X_lag1': merged_df['UNRATE'].shift(1),\n",
    "    'X_lag2': merged_df['UNRATE'].shift(2)\n",
    "}).dropna()"
   ]
  },
  {
   "cell_type": "code",
   "execution_count": 18,
   "metadata": {},
   "outputs": [],
   "source": [
    "initial_model = sm.OLS(data['Y'], sm.add_constant(data[['X', 'X_lag1', 'X_lag2']])).fit()\n",
    "rho = initial_model.resid.autocorr(lag=1)  # Estimate AR(1) coefficient for the residuals"
   ]
  },
  {
   "cell_type": "code",
   "execution_count": 19,
   "metadata": {},
   "outputs": [],
   "source": [
    "#cochrane-Orcutt transformation with estimated rho\n",
    "data['Y_adj'] = data['Y'].iloc[1:] - rho * data['Y'].iloc[:-1].values\n",
    "data['X_adj'] = data['X'].iloc[1:] - rho * data['X'].iloc[:-1].values\n",
    "data['X_lag1_adj'] = data['X_lag1'].iloc[1:] - rho * data['X_lag1'].iloc[:-1].values\n",
    "data['X_lag2_adj'] = data['X_lag2'].iloc[1:] - rho * data['X_lag2'].iloc[:-1].values"
   ]
  },
  {
   "cell_type": "code",
   "execution_count": 20,
   "metadata": {},
   "outputs": [
    {
     "name": "stdout",
     "output_type": "stream",
     "text": [
      "                            OLS Regression Results                            \n",
      "==============================================================================\n",
      "Dep. Variable:                  Y_adj   R-squared:                       0.007\n",
      "Model:                            OLS   Adj. R-squared:                  0.004\n",
      "Method:                 Least Squares   F-statistic:                     2.239\n",
      "Date:                Sat, 02 Nov 2024   Prob (F-statistic):             0.0823\n",
      "Time:                        02:16:00   Log-Likelihood:                 55.870\n",
      "No. Observations:                 915   AIC:                            -103.7\n",
      "Df Residuals:                     911   BIC:                            -84.46\n",
      "Df Model:                           3                                         \n",
      "Covariance Type:            nonrobust                                         \n",
      "==============================================================================\n",
      "                 coef    std err          t      P>|t|      [0.025      0.975]\n",
      "------------------------------------------------------------------------------\n",
      "const          0.0798      0.026      3.012      0.003       0.028       0.132\n",
      "X_adj         -0.0394      0.034     -1.174      0.241      -0.105       0.026\n",
      "X_lag1_adj     0.0874      0.035      2.489      0.013       0.018       0.156\n",
      "X_lag2_adj    -0.0363      0.034     -1.084      0.279      -0.102       0.029\n",
      "==============================================================================\n",
      "Omnibus:                       15.597   Durbin-Watson:                   2.188\n",
      "Prob(Omnibus):                  0.000   Jarque-Bera (JB):               27.538\n",
      "Skew:                          -0.039   Prob(JB):                     1.05e-06\n",
      "Kurtosis:                       3.846   Cond. No.                         22.5\n",
      "==============================================================================\n",
      "\n",
      "Notes:\n",
      "[1] Standard Errors assume that the covariance matrix of the errors is correctly specified.\n"
     ]
    }
   ],
   "source": [
    "transformed_data = data.dropna() \n",
    "gls_model = sm.OLS(\n",
    "    transformed_data['Y_adj'],\n",
    "    sm.add_constant(transformed_data[['X_adj', 'X_lag1_adj', 'X_lag2_adj']])\n",
    ").fit()\n",
    "\n",
    "print(gls_model.summary())"
   ]
  }
 ],
 "metadata": {
  "kernelspec": {
   "display_name": "base",
   "language": "python",
   "name": "python3"
  },
  "language_info": {
   "codemirror_mode": {
    "name": "ipython",
    "version": 3
   },
   "file_extension": ".py",
   "mimetype": "text/x-python",
   "name": "python",
   "nbconvert_exporter": "python",
   "pygments_lexer": "ipython3",
   "version": "3.11.5"
  }
 },
 "nbformat": 4,
 "nbformat_minor": 2
}
